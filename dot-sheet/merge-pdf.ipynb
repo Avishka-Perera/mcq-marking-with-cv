{
 "cells": [
  {
   "cell_type": "code",
   "execution_count": 15,
   "metadata": {},
   "outputs": [],
   "source": [
    "from PyPDF2 import PdfFileReader, PdfFileWriter\n",
    "from pathlib import Path\n",
    "from io import BytesIO"
   ]
  },
  {
   "cell_type": "code",
   "execution_count": 17,
   "metadata": {},
   "outputs": [],
   "source": [
    "pdf_path = \"MCQ Dot Sheet.pdf\"\n",
    "pdf = PdfFileReader(str(pdf_path))\n",
    "pdf.getNumPages()\n",
    "page = pdf.getPage(0)\n",
    "inputPageWidth = page.mediaBox[2]\n",
    "inputPageHeight = page.mediaBox[3]\n",
    "\n",
    "a4_width = 594.48\n",
    "a4_height = 844.32"
   ]
  },
  {
   "cell_type": "code",
   "execution_count": 25,
   "metadata": {},
   "outputs": [],
   "source": [
    "pdf_writer = PdfFileWriter()\n",
    "pdf_writer.addBlankPage(a4_width, a4_height)\n",
    "pdf_writer.getPage(0).mergeTranslatedPage(page, 0, inputPageHeight)\n",
    "pdf_writer.getPage(0).mergeTranslatedPage(page, 0, 0)\n",
    "f = open(\"export.pdf\", \"wb+\")\n",
    "pdf_writer.write(f)\n",
    "f.close()"
   ]
  },
  {
   "cell_type": "code",
   "execution_count": null,
   "metadata": {},
   "outputs": [],
   "source": []
  }
 ],
 "metadata": {
  "kernelspec": {
   "display_name": "Python 3.8.8 ('base')",
   "language": "python",
   "name": "python3"
  },
  "language_info": {
   "codemirror_mode": {
    "name": "ipython",
    "version": 3
   },
   "file_extension": ".py",
   "mimetype": "text/x-python",
   "name": "python",
   "nbconvert_exporter": "python",
   "pygments_lexer": "ipython3",
   "version": "3.8.8"
  },
  "orig_nbformat": 4,
  "vscode": {
   "interpreter": {
    "hash": "4b4033a05a94c747d387bb606f44bd6bd665fbcec7c2c50c8b3ac5513fc03f7b"
   }
  }
 },
 "nbformat": 4,
 "nbformat_minor": 2
}
